{
 "cells": [
  {
   "cell_type": "code",
   "execution_count": 2,
   "metadata": {},
   "outputs": [
    {
     "data": {
      "text/html": [
       "<div>\n",
       "<style scoped>\n",
       "    .dataframe tbody tr th:only-of-type {\n",
       "        vertical-align: middle;\n",
       "    }\n",
       "\n",
       "    .dataframe tbody tr th {\n",
       "        vertical-align: top;\n",
       "    }\n",
       "\n",
       "    .dataframe thead th {\n",
       "        text-align: right;\n",
       "    }\n",
       "</style>\n",
       "<table border=\"1\" class=\"dataframe\">\n",
       "  <thead>\n",
       "    <tr style=\"text-align: right;\">\n",
       "      <th></th>\n",
       "      <th>Country</th>\n",
       "      <th>Region</th>\n",
       "      <th>Population</th>\n",
       "      <th>Area (sq. mi.)</th>\n",
       "      <th>Pop. Density (per sq. mi.)</th>\n",
       "      <th>Coastline (coast/area ratio)</th>\n",
       "      <th>Net migration</th>\n",
       "      <th>Infant mortality (per 1000 births)</th>\n",
       "      <th>GDP ($ per capita)</th>\n",
       "      <th>Literacy (%)</th>\n",
       "      <th>Phones (per 1000)</th>\n",
       "      <th>Arable (%)</th>\n",
       "      <th>Crops (%)</th>\n",
       "      <th>Other (%)</th>\n",
       "      <th>Climate</th>\n",
       "      <th>Birthrate</th>\n",
       "      <th>Deathrate</th>\n",
       "      <th>Agriculture</th>\n",
       "      <th>Industry</th>\n",
       "      <th>Service</th>\n",
       "    </tr>\n",
       "  </thead>\n",
       "  <tbody>\n",
       "    <tr>\n",
       "      <th>0</th>\n",
       "      <td>Afghanistan</td>\n",
       "      <td>ASIA (EX. NEAR EAST)</td>\n",
       "      <td>31056997</td>\n",
       "      <td>647500</td>\n",
       "      <td>48,0</td>\n",
       "      <td>0,00</td>\n",
       "      <td>23,06</td>\n",
       "      <td>163,07</td>\n",
       "      <td>700.0</td>\n",
       "      <td>36,0</td>\n",
       "      <td>3,2</td>\n",
       "      <td>12,13</td>\n",
       "      <td>0,22</td>\n",
       "      <td>87,65</td>\n",
       "      <td>1</td>\n",
       "      <td>46,6</td>\n",
       "      <td>20,34</td>\n",
       "      <td>0,38</td>\n",
       "      <td>0,24</td>\n",
       "      <td>0,38</td>\n",
       "    </tr>\n",
       "    <tr>\n",
       "      <th>1</th>\n",
       "      <td>Albania</td>\n",
       "      <td>EASTERN EUROPE</td>\n",
       "      <td>3581655</td>\n",
       "      <td>28748</td>\n",
       "      <td>124,6</td>\n",
       "      <td>1,26</td>\n",
       "      <td>-4,93</td>\n",
       "      <td>21,52</td>\n",
       "      <td>4500.0</td>\n",
       "      <td>86,5</td>\n",
       "      <td>71,2</td>\n",
       "      <td>21,09</td>\n",
       "      <td>4,42</td>\n",
       "      <td>74,49</td>\n",
       "      <td>3</td>\n",
       "      <td>15,11</td>\n",
       "      <td>5,22</td>\n",
       "      <td>0,232</td>\n",
       "      <td>0,188</td>\n",
       "      <td>0,579</td>\n",
       "    </tr>\n",
       "    <tr>\n",
       "      <th>2</th>\n",
       "      <td>Algeria</td>\n",
       "      <td>NORTHERN AFRICA</td>\n",
       "      <td>32930091</td>\n",
       "      <td>2381740</td>\n",
       "      <td>13,8</td>\n",
       "      <td>0,04</td>\n",
       "      <td>-0,39</td>\n",
       "      <td>31</td>\n",
       "      <td>6000.0</td>\n",
       "      <td>70,0</td>\n",
       "      <td>78,1</td>\n",
       "      <td>3,22</td>\n",
       "      <td>0,25</td>\n",
       "      <td>96,53</td>\n",
       "      <td>1</td>\n",
       "      <td>17,14</td>\n",
       "      <td>4,61</td>\n",
       "      <td>0,101</td>\n",
       "      <td>0,6</td>\n",
       "      <td>0,298</td>\n",
       "    </tr>\n",
       "    <tr>\n",
       "      <th>3</th>\n",
       "      <td>American Samoa</td>\n",
       "      <td>OCEANIA</td>\n",
       "      <td>57794</td>\n",
       "      <td>199</td>\n",
       "      <td>290,4</td>\n",
       "      <td>58,29</td>\n",
       "      <td>-20,71</td>\n",
       "      <td>9,27</td>\n",
       "      <td>8000.0</td>\n",
       "      <td>97,0</td>\n",
       "      <td>259,5</td>\n",
       "      <td>10</td>\n",
       "      <td>15</td>\n",
       "      <td>75</td>\n",
       "      <td>2</td>\n",
       "      <td>22,46</td>\n",
       "      <td>3,27</td>\n",
       "      <td>NaN</td>\n",
       "      <td>NaN</td>\n",
       "      <td>NaN</td>\n",
       "    </tr>\n",
       "    <tr>\n",
       "      <th>4</th>\n",
       "      <td>Andorra</td>\n",
       "      <td>WESTERN EUROPE</td>\n",
       "      <td>71201</td>\n",
       "      <td>468</td>\n",
       "      <td>152,1</td>\n",
       "      <td>0,00</td>\n",
       "      <td>6,6</td>\n",
       "      <td>4,05</td>\n",
       "      <td>19000.0</td>\n",
       "      <td>100,0</td>\n",
       "      <td>497,2</td>\n",
       "      <td>2,22</td>\n",
       "      <td>0</td>\n",
       "      <td>97,78</td>\n",
       "      <td>3</td>\n",
       "      <td>8,71</td>\n",
       "      <td>6,25</td>\n",
       "      <td>NaN</td>\n",
       "      <td>NaN</td>\n",
       "      <td>NaN</td>\n",
       "    </tr>\n",
       "  </tbody>\n",
       "</table>\n",
       "</div>"
      ],
      "text/plain": [
       "           Country                               Region  Population  \\\n",
       "0     Afghanistan         ASIA (EX. NEAR EAST)             31056997   \n",
       "1         Albania   EASTERN EUROPE                          3581655   \n",
       "2         Algeria   NORTHERN AFRICA                        32930091   \n",
       "3  American Samoa   OCEANIA                                   57794   \n",
       "4         Andorra   WESTERN EUROPE                            71201   \n",
       "\n",
       "   Area (sq. mi.) Pop. Density (per sq. mi.) Coastline (coast/area ratio)  \\\n",
       "0          647500                       48,0                         0,00   \n",
       "1           28748                      124,6                         1,26   \n",
       "2         2381740                       13,8                         0,04   \n",
       "3             199                      290,4                        58,29   \n",
       "4             468                      152,1                         0,00   \n",
       "\n",
       "  Net migration Infant mortality (per 1000 births)  GDP ($ per capita)  \\\n",
       "0         23,06                             163,07               700.0   \n",
       "1         -4,93                              21,52              4500.0   \n",
       "2         -0,39                                 31              6000.0   \n",
       "3        -20,71                               9,27              8000.0   \n",
       "4           6,6                               4,05             19000.0   \n",
       "\n",
       "  Literacy (%) Phones (per 1000) Arable (%) Crops (%) Other (%) Climate  \\\n",
       "0         36,0               3,2      12,13      0,22     87,65       1   \n",
       "1         86,5              71,2      21,09      4,42     74,49       3   \n",
       "2         70,0              78,1       3,22      0,25     96,53       1   \n",
       "3         97,0             259,5         10        15        75       2   \n",
       "4        100,0             497,2       2,22         0     97,78       3   \n",
       "\n",
       "  Birthrate Deathrate Agriculture Industry Service  \n",
       "0      46,6     20,34        0,38     0,24    0,38  \n",
       "1     15,11      5,22       0,232    0,188   0,579  \n",
       "2     17,14      4,61       0,101      0,6   0,298  \n",
       "3     22,46      3,27         NaN      NaN     NaN  \n",
       "4      8,71      6,25         NaN      NaN     NaN  "
      ]
     },
     "execution_count": 2,
     "metadata": {},
     "output_type": "execute_result"
    }
   ],
   "source": [
    "import pandas as pd\n",
    "country = pd.read_csv(\"Dataset Tutorial 2/country.csv\")\n",
    "country.head() #Look at the head of the data (just the first few rows)\n"
   ]
  },
  {
   "cell_type": "code",
   "execution_count": 3,
   "metadata": {},
   "outputs": [
    {
     "data": {
      "text/plain": [
       "(227, 20)"
      ]
     },
     "execution_count": 3,
     "metadata": {},
     "output_type": "execute_result"
    }
   ],
   "source": [
    "country.shape\n"
   ]
  },
  {
   "cell_type": "code",
   "execution_count": 4,
   "metadata": {},
   "outputs": [
    {
     "data": {
      "text/html": [
       "<div>\n",
       "<style scoped>\n",
       "    .dataframe tbody tr th:only-of-type {\n",
       "        vertical-align: middle;\n",
       "    }\n",
       "\n",
       "    .dataframe tbody tr th {\n",
       "        vertical-align: top;\n",
       "    }\n",
       "\n",
       "    .dataframe thead th {\n",
       "        text-align: right;\n",
       "    }\n",
       "</style>\n",
       "<table border=\"1\" class=\"dataframe\">\n",
       "  <thead>\n",
       "    <tr style=\"text-align: right;\">\n",
       "      <th></th>\n",
       "      <th>Region</th>\n",
       "      <th>Population</th>\n",
       "      <th>Area (sq. mi.)</th>\n",
       "    </tr>\n",
       "  </thead>\n",
       "  <tbody>\n",
       "    <tr>\n",
       "      <th>0</th>\n",
       "      <td>ASIA (EX. NEAR EAST)</td>\n",
       "      <td>31056997</td>\n",
       "      <td>647500</td>\n",
       "    </tr>\n",
       "    <tr>\n",
       "      <th>1</th>\n",
       "      <td>EASTERN EUROPE</td>\n",
       "      <td>3581655</td>\n",
       "      <td>28748</td>\n",
       "    </tr>\n",
       "    <tr>\n",
       "      <th>2</th>\n",
       "      <td>NORTHERN AFRICA</td>\n",
       "      <td>32930091</td>\n",
       "      <td>2381740</td>\n",
       "    </tr>\n",
       "  </tbody>\n",
       "</table>\n",
       "</div>"
      ],
      "text/plain": [
       "                                Region  Population  Area (sq. mi.)\n",
       "0        ASIA (EX. NEAR EAST)             31056997          647500\n",
       "1  EASTERN EUROPE                          3581655           28748\n",
       "2  NORTHERN AFRICA                        32930091         2381740"
      ]
     },
     "execution_count": 4,
     "metadata": {},
     "output_type": "execute_result"
    }
   ],
   "source": [
    "country.iloc [0:3, 1:4] "
   ]
  },
  {
   "cell_type": "code",
   "execution_count": 5,
   "metadata": {},
   "outputs": [
    {
     "data": {
      "text/html": [
       "<div>\n",
       "<style scoped>\n",
       "    .dataframe tbody tr th:only-of-type {\n",
       "        vertical-align: middle;\n",
       "    }\n",
       "\n",
       "    .dataframe tbody tr th {\n",
       "        vertical-align: top;\n",
       "    }\n",
       "\n",
       "    .dataframe thead th {\n",
       "        text-align: right;\n",
       "    }\n",
       "</style>\n",
       "<table border=\"1\" class=\"dataframe\">\n",
       "  <thead>\n",
       "    <tr style=\"text-align: right;\">\n",
       "      <th></th>\n",
       "      <th>Population</th>\n",
       "      <th>Area (sq. mi.)</th>\n",
       "      <th>GDP ($ per capita)</th>\n",
       "    </tr>\n",
       "  </thead>\n",
       "  <tbody>\n",
       "    <tr>\n",
       "      <th>count</th>\n",
       "      <td>2.270000e+02</td>\n",
       "      <td>2.270000e+02</td>\n",
       "      <td>226.000000</td>\n",
       "    </tr>\n",
       "    <tr>\n",
       "      <th>mean</th>\n",
       "      <td>2.874028e+07</td>\n",
       "      <td>5.982270e+05</td>\n",
       "      <td>9689.823009</td>\n",
       "    </tr>\n",
       "    <tr>\n",
       "      <th>std</th>\n",
       "      <td>1.178913e+08</td>\n",
       "      <td>1.790282e+06</td>\n",
       "      <td>10049.138513</td>\n",
       "    </tr>\n",
       "    <tr>\n",
       "      <th>min</th>\n",
       "      <td>7.026000e+03</td>\n",
       "      <td>2.000000e+00</td>\n",
       "      <td>500.000000</td>\n",
       "    </tr>\n",
       "    <tr>\n",
       "      <th>25%</th>\n",
       "      <td>4.376240e+05</td>\n",
       "      <td>4.647500e+03</td>\n",
       "      <td>1900.000000</td>\n",
       "    </tr>\n",
       "    <tr>\n",
       "      <th>50%</th>\n",
       "      <td>4.786994e+06</td>\n",
       "      <td>8.660000e+04</td>\n",
       "      <td>5550.000000</td>\n",
       "    </tr>\n",
       "    <tr>\n",
       "      <th>75%</th>\n",
       "      <td>1.749777e+07</td>\n",
       "      <td>4.418110e+05</td>\n",
       "      <td>15700.000000</td>\n",
       "    </tr>\n",
       "    <tr>\n",
       "      <th>max</th>\n",
       "      <td>1.313974e+09</td>\n",
       "      <td>1.707520e+07</td>\n",
       "      <td>55100.000000</td>\n",
       "    </tr>\n",
       "  </tbody>\n",
       "</table>\n",
       "</div>"
      ],
      "text/plain": [
       "         Population  Area (sq. mi.)  GDP ($ per capita)\n",
       "count  2.270000e+02    2.270000e+02          226.000000\n",
       "mean   2.874028e+07    5.982270e+05         9689.823009\n",
       "std    1.178913e+08    1.790282e+06        10049.138513\n",
       "min    7.026000e+03    2.000000e+00          500.000000\n",
       "25%    4.376240e+05    4.647500e+03         1900.000000\n",
       "50%    4.786994e+06    8.660000e+04         5550.000000\n",
       "75%    1.749777e+07    4.418110e+05        15700.000000\n",
       "max    1.313974e+09    1.707520e+07        55100.000000"
      ]
     },
     "execution_count": 5,
     "metadata": {},
     "output_type": "execute_result"
    }
   ],
   "source": [
    "country.describe()\n"
   ]
  },
  {
   "cell_type": "code",
   "execution_count": 6,
   "metadata": {},
   "outputs": [
    {
     "data": {
      "text/plain": [
       "count                                     227\n",
       "unique                                     11\n",
       "top       SUB-SAHARAN AFRICA                 \n",
       "freq                                       51\n",
       "Name: Region, dtype: object"
      ]
     },
     "execution_count": 6,
     "metadata": {},
     "output_type": "execute_result"
    }
   ],
   "source": [
    "country['Region'].describe()\n"
   ]
  },
  {
   "cell_type": "code",
   "execution_count": 7,
   "metadata": {},
   "outputs": [
    {
     "data": {
      "text/plain": [
       "count      212\n",
       "unique     150\n",
       "top       0,01\n",
       "freq         8\n",
       "Name: Agriculture, dtype: object"
      ]
     },
     "execution_count": 7,
     "metadata": {},
     "output_type": "execute_result"
    }
   ],
   "source": [
    "country['Agriculture'].describe()"
   ]
  },
  {
   "cell_type": "code",
   "execution_count": 8,
   "metadata": {},
   "outputs": [
    {
     "data": {
      "text/plain": [
       "SUB-SAHARAN AFRICA                     51\n",
       "LATIN AMER. & CARIB                    45\n",
       "ASIA (EX. NEAR EAST)                   28\n",
       "WESTERN EUROPE                         28\n",
       "OCEANIA                                21\n",
       "NEAR EAST                              16\n",
       "C.W. OF IND. STATES                    12\n",
       "EASTERN EUROPE                         12\n",
       "NORTHERN AFRICA                         6\n",
       "NORTHERN AMERICA                        5\n",
       "BALTICS                                 3\n",
       "Name: Region, dtype: int64"
      ]
     },
     "execution_count": 8,
     "metadata": {},
     "output_type": "execute_result"
    }
   ],
   "source": [
    "country['Region'].value_counts()"
   ]
  },
  {
   "cell_type": "code",
   "execution_count": 9,
   "metadata": {},
   "outputs": [
    {
     "data": {
      "text/plain": [
       "43.002372"
      ]
     },
     "execution_count": 9,
     "metadata": {},
     "output_type": "execute_result"
    }
   ],
   "source": [
    "%matplotlib inline\n",
    "import numpy as np\n",
    "import pandas as pd\n",
    "import scipy.stats as stats\n",
    "import matplotlib.pyplot as plt\n",
    "import random\n",
    "import math\n",
    "np.random.seed(10)\n",
    "population_ages1 = stats.poisson.rvs(loc=18, mu=35, size=150000)\n",
    "population_ages2 = stats.poisson.rvs(loc=18, mu=10, size=100000)\n",
    "population_ages = np.concatenate((population_ages1, population_ages2))\n",
    "population_ages.mean()\n"
   ]
  },
  {
   "cell_type": "code",
   "execution_count": 10,
   "metadata": {},
   "outputs": [
    {
     "name": "stdout",
     "output_type": "stream",
     "text": [
      "42.388\n"
     ]
    },
    {
     "data": {
      "text/plain": [
       "0.614372000000003"
      ]
     },
     "execution_count": 10,
     "metadata": {},
     "output_type": "execute_result"
    }
   ],
   "source": [
    "np.random.seed(6)\n",
    "# Sample 500 values\n",
    "sample_ages = np.random.choice(a= population_ages,size=500)\n",
    "# Show sample mean\n",
    "print ( sample_ages.mean())\n",
    "# Check difference between means\n",
    "population_ages.mean() - sample_ages.mean()"
   ]
  },
  {
   "cell_type": "code",
   "execution_count": 11,
   "metadata": {},
   "outputs": [
    {
     "data": {
      "text/plain": [
       "[3, 5, 6, 8, 1]"
      ]
     },
     "execution_count": 11,
     "metadata": {},
     "output_type": "execute_result"
    }
   ],
   "source": [
    "import random\n",
    "c = list(range(0, 15))\n",
    "random.sample(c, 5)"
   ]
  },
  {
   "cell_type": "code",
   "execution_count": 12,
   "metadata": {},
   "outputs": [
    {
     "data": {
      "text/html": [
       "<div>\n",
       "<style scoped>\n",
       "    .dataframe tbody tr th:only-of-type {\n",
       "        vertical-align: middle;\n",
       "    }\n",
       "\n",
       "    .dataframe tbody tr th {\n",
       "        vertical-align: top;\n",
       "    }\n",
       "\n",
       "    .dataframe thead th {\n",
       "        text-align: right;\n",
       "    }\n",
       "</style>\n",
       "<table border=\"1\" class=\"dataframe\">\n",
       "  <thead>\n",
       "    <tr style=\"text-align: right;\">\n",
       "      <th></th>\n",
       "      <th>City</th>\n",
       "      <th>Colors Reported</th>\n",
       "      <th>Shape Reported</th>\n",
       "      <th>State</th>\n",
       "      <th>Time</th>\n",
       "    </tr>\n",
       "  </thead>\n",
       "  <tbody>\n",
       "    <tr>\n",
       "      <th>833</th>\n",
       "      <td>Oklahoma City</td>\n",
       "      <td>NaN</td>\n",
       "      <td>LIGHT</td>\n",
       "      <td>OK</td>\n",
       "      <td>7/15/1963 22:00</td>\n",
       "    </tr>\n",
       "    <tr>\n",
       "      <th>15130</th>\n",
       "      <td>Lowell</td>\n",
       "      <td>NaN</td>\n",
       "      <td>RECTANGLE</td>\n",
       "      <td>IN</td>\n",
       "      <td>11/16/1999 18:00</td>\n",
       "    </tr>\n",
       "    <tr>\n",
       "      <th>8081</th>\n",
       "      <td>Lebanon</td>\n",
       "      <td>NaN</td>\n",
       "      <td>NaN</td>\n",
       "      <td>OR</td>\n",
       "      <td>5/6/1995 23:30</td>\n",
       "    </tr>\n",
       "    <tr>\n",
       "      <th>12684</th>\n",
       "      <td>Rome</td>\n",
       "      <td>RED BLUE</td>\n",
       "      <td>FIREBALL</td>\n",
       "      <td>GA</td>\n",
       "      <td>12/6/1998 8:30</td>\n",
       "    </tr>\n",
       "    <tr>\n",
       "      <th>6929</th>\n",
       "      <td>Oak Creek</td>\n",
       "      <td>NaN</td>\n",
       "      <td>NaN</td>\n",
       "      <td>CO</td>\n",
       "      <td>10/22/1992 21:30</td>\n",
       "    </tr>\n",
       "  </tbody>\n",
       "</table>\n",
       "</div>"
      ],
      "text/plain": [
       "                City Colors Reported Shape Reported State              Time\n",
       "833    Oklahoma City             NaN          LIGHT    OK   7/15/1963 22:00\n",
       "15130         Lowell             NaN      RECTANGLE    IN  11/16/1999 18:00\n",
       "8081         Lebanon             NaN            NaN    OR    5/6/1995 23:30\n",
       "12684           Rome        RED BLUE       FIREBALL    GA    12/6/1998 8:30\n",
       "6929       Oak Creek             NaN            NaN    CO  10/22/1992 21:30"
      ]
     },
     "execution_count": 12,
     "metadata": {},
     "output_type": "execute_result"
    }
   ],
   "source": [
    "import pandas as pd\n",
    "link = 'http://bit.ly/uforeports'\n",
    "ufo = pd.read_csv(link)\n",
    "ufo.sample(n=5)"
   ]
  },
  {
   "cell_type": "code",
   "execution_count": 18,
   "metadata": {},
   "outputs": [
    {
     "data": {
      "image/png": "[encoded data removed]",
      "text/plain": [
       "<matplotlib.figure.Figure at 0x93ad668>"
      ]
     },
     "metadata": {},
     "output_type": "display_data"
    }
   ],
   "source": [
    "import pandas as pd\n",
    "mpg = pd.read_csv(\"Dataset Tutorial 2/mpg.csv\")\n",
    "mpg.head()\n",
    "mpg.plot(x = 'weight', y = 'mpg', kind='scatter')\n",
    "plt.show()"
   ]
  },
  {
   "cell_type": "code",
   "execution_count": 19,
   "metadata": {},
   "outputs": [
    {
     "data": {
      "text/plain": [
       "-0.8317409332443351"
      ]
     },
     "execution_count": 19,
     "metadata": {},
     "output_type": "execute_result"
    }
   ],
   "source": [
    "mpg['mpg'].corr(mpg['weight'])"
   ]
  },
  {
   "cell_type": "code",
   "execution_count": 20,
   "metadata": {},
   "outputs": [
    {
     "data": {
      "text/html": [
       "<style  type=\"text/css\" >\n",
       "    #T_e44f2198_c2eb_11e8_9d1f_60e3270418c5row0_col0 {\n",
       "            background-color:  #b40426;\n",
       "        }    #T_e44f2198_c2eb_11e8_9d1f_60e3270418c5row0_col1 {\n",
       "            background-color:  #4358cb;\n",
       "        }    #T_e44f2198_c2eb_11e8_9d1f_60e3270418c5row0_col2 {\n",
       "            background-color:  #3e51c5;\n",
       "        }    #T_e44f2198_c2eb_11e8_9d1f_60e3270418c5row0_col3 {\n",
       "            background-color:  #3b4cc0;\n",
       "        }    #T_e44f2198_c2eb_11e8_9d1f_60e3270418c5row0_col4 {\n",
       "            background-color:  #f7b396;\n",
       "        }    #T_e44f2198_c2eb_11e8_9d1f_60e3270418c5row0_col5 {\n",
       "            background-color:  #f29072;\n",
       "        }    #T_e44f2198_c2eb_11e8_9d1f_60e3270418c5row0_col6 {\n",
       "            background-color:  #f39577;\n",
       "        }    #T_e44f2198_c2eb_11e8_9d1f_60e3270418c5row1_col0 {\n",
       "            background-color:  #3b4cc0;\n",
       "        }    #T_e44f2198_c2eb_11e8_9d1f_60e3270418c5row1_col1 {\n",
       "            background-color:  #b40426;\n",
       "        }    #T_e44f2198_c2eb_11e8_9d1f_60e3270418c5row1_col2 {\n",
       "            background-color:  #be242e;\n",
       "        }    #T_e44f2198_c2eb_11e8_9d1f_60e3270418c5row1_col3 {\n",
       "            background-color:  #c83836;\n",
       "        }    #T_e44f2198_c2eb_11e8_9d1f_60e3270418c5row1_col4 {\n",
       "            background-color:  #6a8bef;\n",
       "        }    #T_e44f2198_c2eb_11e8_9d1f_60e3270418c5row1_col5 {\n",
       "            background-color:  #89acfd;\n",
       "        }    #T_e44f2198_c2eb_11e8_9d1f_60e3270418c5row1_col6 {\n",
       "            background-color:  #5f7fe8;\n",
       "        }    #T_e44f2198_c2eb_11e8_9d1f_60e3270418c5row2_col0 {\n",
       "            background-color:  #3b4cc0;\n",
       "        }    #T_e44f2198_c2eb_11e8_9d1f_60e3270418c5row2_col1 {\n",
       "            background-color:  #bd1f2d;\n",
       "        }    #T_e44f2198_c2eb_11e8_9d1f_60e3270418c5row2_col2 {\n",
       "            background-color:  #b40426;\n",
       "        }    #T_e44f2198_c2eb_11e8_9d1f_60e3270418c5row2_col3 {\n",
       "            background-color:  #c12b30;\n",
       "        }    #T_e44f2198_c2eb_11e8_9d1f_60e3270418c5row2_col4 {\n",
       "            background-color:  #6788ee;\n",
       "        }    #T_e44f2198_c2eb_11e8_9d1f_60e3270418c5row2_col5 {\n",
       "            background-color:  #89acfd;\n",
       "        }    #T_e44f2198_c2eb_11e8_9d1f_60e3270418c5row2_col6 {\n",
       "            background-color:  #5b7ae5;\n",
       "        }    #T_e44f2198_c2eb_11e8_9d1f_60e3270418c5row3_col0 {\n",
       "            background-color:  #3b4cc0;\n",
       "        }    #T_e44f2198_c2eb_11e8_9d1f_60e3270418c5row3_col1 {\n",
       "            background-color:  #c83836;\n",
       "        }    #T_e44f2198_c2eb_11e8_9d1f_60e3270418c5row3_col2 {\n",
       "            background-color:  #c12b30;\n",
       "        }    #T_e44f2198_c2eb_11e8_9d1f_60e3270418c5row3_col3 {\n",
       "            background-color:  #b40426;\n",
       "        }    #T_e44f2198_c2eb_11e8_9d1f_60e3270418c5row3_col4 {\n",
       "            background-color:  #84a7fc;\n",
       "        }    #T_e44f2198_c2eb_11e8_9d1f_60e3270418c5row3_col5 {\n",
       "            background-color:  #9abbff;\n",
       "        }    #T_e44f2198_c2eb_11e8_9d1f_60e3270418c5row3_col6 {\n",
       "            background-color:  #6687ed;\n",
       "        }    #T_e44f2198_c2eb_11e8_9d1f_60e3270418c5row4_col0 {\n",
       "            background-color:  #f4c5ad;\n",
       "        }    #T_e44f2198_c2eb_11e8_9d1f_60e3270418c5row4_col1 {\n",
       "            background-color:  #4257c9;\n",
       "        }    #T_e44f2198_c2eb_11e8_9d1f_60e3270418c5row4_col2 {\n",
       "            background-color:  #3b4cc0;\n",
       "        }    #T_e44f2198_c2eb_11e8_9d1f_60e3270418c5row4_col3 {\n",
       "            background-color:  #536edd;\n",
       "        }    #T_e44f2198_c2eb_11e8_9d1f_60e3270418c5row4_col4 {\n",
       "            background-color:  #b40426;\n",
       "        }    #T_e44f2198_c2eb_11e8_9d1f_60e3270418c5row4_col5 {\n",
       "            background-color:  #e6d7cf;\n",
       "        }    #T_e44f2198_c2eb_11e8_9d1f_60e3270418c5row4_col6 {\n",
       "            background-color:  #d9dce1;\n",
       "        }    #T_e44f2198_c2eb_11e8_9d1f_60e3270418c5row5_col0 {\n",
       "            background-color:  #f7af91;\n",
       "        }    #T_e44f2198_c2eb_11e8_9d1f_60e3270418c5row5_col1 {\n",
       "            background-color:  #3f53c6;\n",
       "        }    #T_e44f2198_c2eb_11e8_9d1f_60e3270418c5row5_col2 {\n",
       "            background-color:  #3b4cc0;\n",
       "        }    #T_e44f2198_c2eb_11e8_9d1f_60e3270418c5row5_col3 {\n",
       "            background-color:  #485fd1;\n",
       "        }    #T_e44f2198_c2eb_11e8_9d1f_60e3270418c5row5_col4 {\n",
       "            background-color:  #d7dce3;\n",
       "        }    #T_e44f2198_c2eb_11e8_9d1f_60e3270418c5row5_col5 {\n",
       "            background-color:  #b40426;\n",
       "        }    #T_e44f2198_c2eb_11e8_9d1f_60e3270418c5row5_col6 {\n",
       "            background-color:  #c0d4f5;\n",
       "        }    #T_e44f2198_c2eb_11e8_9d1f_60e3270418c5row6_col0 {\n",
       "            background-color:  #f6a283;\n",
       "        }    #T_e44f2198_c2eb_11e8_9d1f_60e3270418c5row6_col1 {\n",
       "            background-color:  #4358cb;\n",
       "        }    #T_e44f2198_c2eb_11e8_9d1f_60e3270418c5row6_col2 {\n",
       "            background-color:  #3b4cc0;\n",
       "        }    #T_e44f2198_c2eb_11e8_9d1f_60e3270418c5row6_col3 {\n",
       "            background-color:  #3f53c6;\n",
       "        }    #T_e44f2198_c2eb_11e8_9d1f_60e3270418c5row6_col4 {\n",
       "            background-color:  #dedcdb;\n",
       "        }    #T_e44f2198_c2eb_11e8_9d1f_60e3270418c5row6_col5 {\n",
       "            background-color:  #dadce0;\n",
       "        }    #T_e44f2198_c2eb_11e8_9d1f_60e3270418c5row6_col6 {\n",
       "            background-color:  #b40426;\n",
       "        }</style>  \n",
       "<table id=\"T_e44f2198_c2eb_11e8_9d1f_60e3270418c5\" > \n",
       "<thead>    <tr> \n",
       "        <th class=\"blank level0\" ></th> \n",
       "        <th class=\"col_heading level0 col0\" >mpg</th> \n",
       "        <th class=\"col_heading level0 col1\" >cylinders</th> \n",
       "        <th class=\"col_heading level0 col2\" >displacement</th> \n",
       "        <th class=\"col_heading level0 col3\" >weight</th> \n",
       "        <th class=\"col_heading level0 col4\" >acceleration</th> \n",
       "        <th class=\"col_heading level0 col5\" >model_year</th> \n",
       "        <th class=\"col_heading level0 col6\" >origin</th> \n",
       "    </tr></thead> \n",
       "<tbody>    <tr> \n",
       "        <th id=\"T_e44f2198_c2eb_11e8_9d1f_60e3270418c5level0_row0\" class=\"row_heading level0 row0\" >mpg</th> \n",
       "        <td id=\"T_e44f2198_c2eb_11e8_9d1f_60e3270418c5row0_col0\" class=\"data row0 col0\" >1.0</td> \n",
       "        <td id=\"T_e44f2198_c2eb_11e8_9d1f_60e3270418c5row0_col1\" class=\"data row0 col1\" >-0.78</td> \n",
       "        <td id=\"T_e44f2198_c2eb_11e8_9d1f_60e3270418c5row0_col2\" class=\"data row0 col2\" >-0.8</td> \n",
       "        <td id=\"T_e44f2198_c2eb_11e8_9d1f_60e3270418c5row0_col3\" class=\"data row0 col3\" >-0.83</td> \n",
       "        <td id=\"T_e44f2198_c2eb_11e8_9d1f_60e3270418c5row0_col4\" class=\"data row0 col4\" >0.42</td> \n",
       "        <td id=\"T_e44f2198_c2eb_11e8_9d1f_60e3270418c5row0_col5\" class=\"data row0 col5\" >0.58</td> \n",
       "        <td id=\"T_e44f2198_c2eb_11e8_9d1f_60e3270418c5row0_col6\" class=\"data row0 col6\" >0.56</td> \n",
       "    </tr>    <tr> \n",
       "        <th id=\"T_e44f2198_c2eb_11e8_9d1f_60e3270418c5level0_row1\" class=\"row_heading level0 row1\" >cylinders</th> \n",
       "        <td id=\"T_e44f2198_c2eb_11e8_9d1f_60e3270418c5row1_col0\" class=\"data row1 col0\" >-0.78</td> \n",
       "        <td id=\"T_e44f2198_c2eb_11e8_9d1f_60e3270418c5row1_col1\" class=\"data row1 col1\" >1.0</td> \n",
       "        <td id=\"T_e44f2198_c2eb_11e8_9d1f_60e3270418c5row1_col2\" class=\"data row1 col2\" >0.95</td> \n",
       "        <td id=\"T_e44f2198_c2eb_11e8_9d1f_60e3270418c5row1_col3\" class=\"data row1 col3\" >0.9</td> \n",
       "        <td id=\"T_e44f2198_c2eb_11e8_9d1f_60e3270418c5row1_col4\" class=\"data row1 col4\" >-0.51</td> \n",
       "        <td id=\"T_e44f2198_c2eb_11e8_9d1f_60e3270418c5row1_col5\" class=\"data row1 col5\" >-0.35</td> \n",
       "        <td id=\"T_e44f2198_c2eb_11e8_9d1f_60e3270418c5row1_col6\" class=\"data row1 col6\" >-0.56</td> \n",
       "    </tr>    <tr> \n",
       "        <th id=\"T_e44f2198_c2eb_11e8_9d1f_60e3270418c5level0_row2\" class=\"row_heading level0 row2\" >displacement</th> \n",
       "        <td id=\"T_e44f2198_c2eb_11e8_9d1f_60e3270418c5row2_col0\" class=\"data row2 col0\" >-0.8</td> \n",
       "        <td id=\"T_e44f2198_c2eb_11e8_9d1f_60e3270418c5row2_col1\" class=\"data row2 col1\" >0.95</td> \n",
       "        <td id=\"T_e44f2198_c2eb_11e8_9d1f_60e3270418c5row2_col2\" class=\"data row2 col2\" >1.0</td> \n",
       "        <td id=\"T_e44f2198_c2eb_11e8_9d1f_60e3270418c5row2_col3\" class=\"data row2 col3\" >0.93</td> \n",
       "        <td id=\"T_e44f2198_c2eb_11e8_9d1f_60e3270418c5row2_col4\" class=\"data row2 col4\" >-0.54</td> \n",
       "        <td id=\"T_e44f2198_c2eb_11e8_9d1f_60e3270418c5row2_col5\" class=\"data row2 col5\" >-0.37</td> \n",
       "        <td id=\"T_e44f2198_c2eb_11e8_9d1f_60e3270418c5row2_col6\" class=\"data row2 col6\" >-0.61</td> \n",
       "    </tr>    <tr> \n",
       "        <th id=\"T_e44f2198_c2eb_11e8_9d1f_60e3270418c5level0_row3\" class=\"row_heading level0 row3\" >weight</th> \n",
       "        <td id=\"T_e44f2198_c2eb_11e8_9d1f_60e3270418c5row3_col0\" class=\"data row3 col0\" >-0.83</td> \n",
       "        <td id=\"T_e44f2198_c2eb_11e8_9d1f_60e3270418c5row3_col1\" class=\"data row3 col1\" >0.9</td> \n",
       "        <td id=\"T_e44f2198_c2eb_11e8_9d1f_60e3270418c5row3_col2\" class=\"data row3 col2\" >0.93</td> \n",
       "        <td id=\"T_e44f2198_c2eb_11e8_9d1f_60e3270418c5row3_col3\" class=\"data row3 col3\" >1.0</td> \n",
       "        <td id=\"T_e44f2198_c2eb_11e8_9d1f_60e3270418c5row3_col4\" class=\"data row3 col4\" >-0.42</td> \n",
       "        <td id=\"T_e44f2198_c2eb_11e8_9d1f_60e3270418c5row3_col5\" class=\"data row3 col5\" >-0.31</td> \n",
       "        <td id=\"T_e44f2198_c2eb_11e8_9d1f_60e3270418c5row3_col6\" class=\"data row3 col6\" >-0.58</td> \n",
       "    </tr>    <tr> \n",
       "        <th id=\"T_e44f2198_c2eb_11e8_9d1f_60e3270418c5level0_row4\" class=\"row_heading level0 row4\" >acceleration</th> \n",
       "        <td id=\"T_e44f2198_c2eb_11e8_9d1f_60e3270418c5row4_col0\" class=\"data row4 col0\" >0.42</td> \n",
       "        <td id=\"T_e44f2198_c2eb_11e8_9d1f_60e3270418c5row4_col1\" class=\"data row4 col1\" >-0.51</td> \n",
       "        <td id=\"T_e44f2198_c2eb_11e8_9d1f_60e3270418c5row4_col2\" class=\"data row4 col2\" >-0.54</td> \n",
       "        <td id=\"T_e44f2198_c2eb_11e8_9d1f_60e3270418c5row4_col3\" class=\"data row4 col3\" >-0.42</td> \n",
       "        <td id=\"T_e44f2198_c2eb_11e8_9d1f_60e3270418c5row4_col4\" class=\"data row4 col4\" >1.0</td> \n",
       "        <td id=\"T_e44f2198_c2eb_11e8_9d1f_60e3270418c5row4_col5\" class=\"data row4 col5\" >0.29</td> \n",
       "        <td id=\"T_e44f2198_c2eb_11e8_9d1f_60e3270418c5row4_col6\" class=\"data row4 col6\" >0.21</td> \n",
       "    </tr>    <tr> \n",
       "        <th id=\"T_e44f2198_c2eb_11e8_9d1f_60e3270418c5level0_row5\" class=\"row_heading level0 row5\" >model_year</th> \n",
       "        <td id=\"T_e44f2198_c2eb_11e8_9d1f_60e3270418c5row5_col0\" class=\"data row5 col0\" >0.58</td> \n",
       "        <td id=\"T_e44f2198_c2eb_11e8_9d1f_60e3270418c5row5_col1\" class=\"data row5 col1\" >-0.35</td> \n",
       "        <td id=\"T_e44f2198_c2eb_11e8_9d1f_60e3270418c5row5_col2\" class=\"data row5 col2\" >-0.37</td> \n",
       "        <td id=\"T_e44f2198_c2eb_11e8_9d1f_60e3270418c5row5_col3\" class=\"data row5 col3\" >-0.31</td> \n",
       "        <td id=\"T_e44f2198_c2eb_11e8_9d1f_60e3270418c5row5_col4\" class=\"data row5 col4\" >0.29</td> \n",
       "        <td id=\"T_e44f2198_c2eb_11e8_9d1f_60e3270418c5row5_col5\" class=\"data row5 col5\" >1.0</td> \n",
       "        <td id=\"T_e44f2198_c2eb_11e8_9d1f_60e3270418c5row5_col6\" class=\"data row5 col6\" >0.18</td> \n",
       "    </tr>    <tr> \n",
       "        <th id=\"T_e44f2198_c2eb_11e8_9d1f_60e3270418c5level0_row6\" class=\"row_heading level0 row6\" >origin</th> \n",
       "        <td id=\"T_e44f2198_c2eb_11e8_9d1f_60e3270418c5row6_col0\" class=\"data row6 col0\" >0.56</td> \n",
       "        <td id=\"T_e44f2198_c2eb_11e8_9d1f_60e3270418c5row6_col1\" class=\"data row6 col1\" >-0.56</td> \n",
       "        <td id=\"T_e44f2198_c2eb_11e8_9d1f_60e3270418c5row6_col2\" class=\"data row6 col2\" >-0.61</td> \n",
       "        <td id=\"T_e44f2198_c2eb_11e8_9d1f_60e3270418c5row6_col3\" class=\"data row6 col3\" >-0.58</td> \n",
       "        <td id=\"T_e44f2198_c2eb_11e8_9d1f_60e3270418c5row6_col4\" class=\"data row6 col4\" >0.21</td> \n",
       "        <td id=\"T_e44f2198_c2eb_11e8_9d1f_60e3270418c5row6_col5\" class=\"data row6 col5\" >0.18</td> \n",
       "        <td id=\"T_e44f2198_c2eb_11e8_9d1f_60e3270418c5row6_col6\" class=\"data row6 col6\" >1.0</td> \n",
       "    </tr></tbody> \n",
       "</table> "
      ],
      "text/plain": [
       "<pandas.io.formats.style.Styler at 0xbf54550>"
      ]
     },
     "execution_count": 20,
     "metadata": {},
     "output_type": "execute_result"
    }
   ],
   "source": [
    "mpg.corr(method='pearson').style.format(\"{:.2}\").background_gradient(cmap\n",
    "=plt.get_cmap('coolwarm'), axis=1)"
   ]
  },
  {
   "cell_type": "code",
   "execution_count": 21,
   "metadata": {},
   "outputs": [
    {
     "data": {
      "text/html": [
       "<style  type=\"text/css\" >\n",
       "    #T_186b26b6_c2ec_11e8_9e84_60e3270418c5row0_col0 {\n",
       "            background-color:  #b40426;\n",
       "        }    #T_186b26b6_c2ec_11e8_9e84_60e3270418c5row0_col1 {\n",
       "            background-color:  #4358cb;\n",
       "        }    #T_186b26b6_c2ec_11e8_9e84_60e3270418c5row0_col2 {\n",
       "            background-color:  #3d50c3;\n",
       "        }    #T_186b26b6_c2ec_11e8_9e84_60e3270418c5row0_col3 {\n",
       "            background-color:  #3b4cc0;\n",
       "        }    #T_186b26b6_c2ec_11e8_9e84_60e3270418c5row0_col4 {\n",
       "            background-color:  #f7ac8e;\n",
       "        }    #T_186b26b6_c2ec_11e8_9e84_60e3270418c5row0_col5 {\n",
       "            background-color:  #f29072;\n",
       "        }    #T_186b26b6_c2ec_11e8_9e84_60e3270418c5row0_col6 {\n",
       "            background-color:  #f18f71;\n",
       "        }    #T_186b26b6_c2ec_11e8_9e84_60e3270418c5row1_col0 {\n",
       "            background-color:  #3b4cc0;\n",
       "        }    #T_186b26b6_c2ec_11e8_9e84_60e3270418c5row1_col1 {\n",
       "            background-color:  #b40426;\n",
       "        }    #T_186b26b6_c2ec_11e8_9e84_60e3270418c5row1_col2 {\n",
       "            background-color:  #c53334;\n",
       "        }    #T_186b26b6_c2ec_11e8_9e84_60e3270418c5row1_col3 {\n",
       "            background-color:  #cc403a;\n",
       "        }    #T_186b26b6_c2ec_11e8_9e84_60e3270418c5row1_col4 {\n",
       "            background-color:  #779af7;\n",
       "        }    #T_186b26b6_c2ec_11e8_9e84_60e3270418c5row1_col5 {\n",
       "            background-color:  #93b5fe;\n",
       "        }    #T_186b26b6_c2ec_11e8_9e84_60e3270418c5row1_col6 {\n",
       "            background-color:  #5f7fe8;\n",
       "        }    #T_186b26b6_c2ec_11e8_9e84_60e3270418c5row2_col0 {\n",
       "            background-color:  #3b4cc0;\n",
       "        }    #T_186b26b6_c2ec_11e8_9e84_60e3270418c5row2_col1 {\n",
       "            background-color:  #c53334;\n",
       "        }    #T_186b26b6_c2ec_11e8_9e84_60e3270418c5row2_col2 {\n",
       "            background-color:  #b40426;\n",
       "        }    #T_186b26b6_c2ec_11e8_9e84_60e3270418c5row2_col3 {\n",
       "            background-color:  #be242e;\n",
       "        }    #T_186b26b6_c2ec_11e8_9e84_60e3270418c5row2_col4 {\n",
       "            background-color:  #799cf8;\n",
       "        }    #T_186b26b6_c2ec_11e8_9e84_60e3270418c5row2_col5 {\n",
       "            background-color:  #9dbdff;\n",
       "        }    #T_186b26b6_c2ec_11e8_9e84_60e3270418c5row2_col6 {\n",
       "            background-color:  #536edd;\n",
       "        }    #T_186b26b6_c2ec_11e8_9e84_60e3270418c5row3_col0 {\n",
       "            background-color:  #3b4cc0;\n",
       "        }    #T_186b26b6_c2ec_11e8_9e84_60e3270418c5row3_col1 {\n",
       "            background-color:  #cc403a;\n",
       "        }    #T_186b26b6_c2ec_11e8_9e84_60e3270418c5row3_col2 {\n",
       "            background-color:  #be242e;\n",
       "        }    #T_186b26b6_c2ec_11e8_9e84_60e3270418c5row3_col3 {\n",
       "            background-color:  #b40426;\n",
       "        }    #T_186b26b6_c2ec_11e8_9e84_60e3270418c5row3_col4 {\n",
       "            background-color:  #8db0fe;\n",
       "        }    #T_186b26b6_c2ec_11e8_9e84_60e3270418c5row3_col5 {\n",
       "            background-color:  #a5c3fe;\n",
       "        }    #T_186b26b6_c2ec_11e8_9e84_60e3270418c5row3_col6 {\n",
       "            background-color:  #6384eb;\n",
       "        }    #T_186b26b6_c2ec_11e8_9e84_60e3270418c5row4_col0 {\n",
       "            background-color:  #f4c5ad;\n",
       "        }    #T_186b26b6_c2ec_11e8_9e84_60e3270418c5row4_col1 {\n",
       "            background-color:  #3e51c5;\n",
       "        }    #T_186b26b6_c2ec_11e8_9e84_60e3270418c5row4_col2 {\n",
       "            background-color:  #3b4cc0;\n",
       "        }    #T_186b26b6_c2ec_11e8_9e84_60e3270418c5row4_col3 {\n",
       "            background-color:  #4c66d6;\n",
       "        }    #T_186b26b6_c2ec_11e8_9e84_60e3270418c5row4_col4 {\n",
       "            background-color:  #b40426;\n",
       "        }    #T_186b26b6_c2ec_11e8_9e84_60e3270418c5row4_col5 {\n",
       "            background-color:  #e0dbd8;\n",
       "        }    #T_186b26b6_c2ec_11e8_9e84_60e3270418c5row4_col6 {\n",
       "            background-color:  #d7dce3;\n",
       "        }    #T_186b26b6_c2ec_11e8_9e84_60e3270418c5row5_col0 {\n",
       "            background-color:  #f7b396;\n",
       "        }    #T_186b26b6_c2ec_11e8_9e84_60e3270418c5row5_col1 {\n",
       "            background-color:  #3b4cc0;\n",
       "        }    #T_186b26b6_c2ec_11e8_9e84_60e3270418c5row5_col2 {\n",
       "            background-color:  #4055c8;\n",
       "        }    #T_186b26b6_c2ec_11e8_9e84_60e3270418c5row5_col3 {\n",
       "            background-color:  #485fd1;\n",
       "        }    #T_186b26b6_c2ec_11e8_9e84_60e3270418c5row5_col4 {\n",
       "            background-color:  #d1dae9;\n",
       "        }    #T_186b26b6_c2ec_11e8_9e84_60e3270418c5row5_col5 {\n",
       "            background-color:  #b40426;\n",
       "        }    #T_186b26b6_c2ec_11e8_9e84_60e3270418c5row5_col6 {\n",
       "            background-color:  #b9d0f9;\n",
       "        }    #T_186b26b6_c2ec_11e8_9e84_60e3270418c5row6_col0 {\n",
       "            background-color:  #f39778;\n",
       "        }    #T_186b26b6_c2ec_11e8_9e84_60e3270418c5row6_col1 {\n",
       "            background-color:  #4c66d6;\n",
       "        }    #T_186b26b6_c2ec_11e8_9e84_60e3270418c5row6_col2 {\n",
       "            background-color:  #3b4cc0;\n",
       "        }    #T_186b26b6_c2ec_11e8_9e84_60e3270418c5row6_col3 {\n",
       "            background-color:  #485fd1;\n",
       "        }    #T_186b26b6_c2ec_11e8_9e84_60e3270418c5row6_col4 {\n",
       "            background-color:  #e8d6cc;\n",
       "        }    #T_186b26b6_c2ec_11e8_9e84_60e3270418c5row6_col5 {\n",
       "            background-color:  #e0dbd8;\n",
       "        }    #T_186b26b6_c2ec_11e8_9e84_60e3270418c5row6_col6 {\n",
       "            background-color:  #b40426;\n",
       "        }</style>  \n",
       "<table id=\"T_186b26b6_c2ec_11e8_9e84_60e3270418c5\" > \n",
       "<thead>    <tr> \n",
       "        <th class=\"blank level0\" ></th> \n",
       "        <th class=\"col_heading level0 col0\" >mpg</th> \n",
       "        <th class=\"col_heading level0 col1\" >cylinders</th> \n",
       "        <th class=\"col_heading level0 col2\" >displacement</th> \n",
       "        <th class=\"col_heading level0 col3\" >weight</th> \n",
       "        <th class=\"col_heading level0 col4\" >acceleration</th> \n",
       "        <th class=\"col_heading level0 col5\" >model_year</th> \n",
       "        <th class=\"col_heading level0 col6\" >origin</th> \n",
       "    </tr></thead> \n",
       "<tbody>    <tr> \n",
       "        <th id=\"T_186b26b6_c2ec_11e8_9e84_60e3270418c5level0_row0\" class=\"row_heading level0 row0\" >mpg</th> \n",
       "        <td id=\"T_186b26b6_c2ec_11e8_9e84_60e3270418c5row0_col0\" class=\"data row0 col0\" >1.0</td> \n",
       "        <td id=\"T_186b26b6_c2ec_11e8_9e84_60e3270418c5row0_col1\" class=\"data row0 col1\" >-0.82</td> \n",
       "        <td id=\"T_186b26b6_c2ec_11e8_9e84_60e3270418c5row0_col2\" class=\"data row0 col2\" >-0.86</td> \n",
       "        <td id=\"T_186b26b6_c2ec_11e8_9e84_60e3270418c5row0_col3\" class=\"data row0 col3\" >-0.87</td> \n",
       "        <td id=\"T_186b26b6_c2ec_11e8_9e84_60e3270418c5row0_col4\" class=\"data row0 col4\" >0.44</td> \n",
       "        <td id=\"T_186b26b6_c2ec_11e8_9e84_60e3270418c5row0_col5\" class=\"data row0 col5\" >0.57</td> \n",
       "        <td id=\"T_186b26b6_c2ec_11e8_9e84_60e3270418c5row0_col6\" class=\"data row0 col6\" >0.58</td> \n",
       "    </tr>    <tr> \n",
       "        <th id=\"T_186b26b6_c2ec_11e8_9e84_60e3270418c5level0_row1\" class=\"row_heading level0 row1\" >cylinders</th> \n",
       "        <td id=\"T_186b26b6_c2ec_11e8_9e84_60e3270418c5row1_col0\" class=\"data row1 col0\" >-0.82</td> \n",
       "        <td id=\"T_186b26b6_c2ec_11e8_9e84_60e3270418c5row1_col1\" class=\"data row1 col1\" >1.0</td> \n",
       "        <td id=\"T_186b26b6_c2ec_11e8_9e84_60e3270418c5row1_col2\" class=\"data row1 col2\" >0.91</td> \n",
       "        <td id=\"T_186b26b6_c2ec_11e8_9e84_60e3270418c5row1_col3\" class=\"data row1 col3\" >0.87</td> \n",
       "        <td id=\"T_186b26b6_c2ec_11e8_9e84_60e3270418c5row1_col4\" class=\"data row1 col4\" >-0.47</td> \n",
       "        <td id=\"T_186b26b6_c2ec_11e8_9e84_60e3270418c5row1_col5\" class=\"data row1 col5\" >-0.34</td> \n",
       "        <td id=\"T_186b26b6_c2ec_11e8_9e84_60e3270418c5row1_col6\" class=\"data row1 col6\" >-0.6</td> \n",
       "    </tr>    <tr> \n",
       "        <th id=\"T_186b26b6_c2ec_11e8_9e84_60e3270418c5level0_row2\" class=\"row_heading level0 row2\" >displacement</th> \n",
       "        <td id=\"T_186b26b6_c2ec_11e8_9e84_60e3270418c5row2_col0\" class=\"data row2 col0\" >-0.86</td> \n",
       "        <td id=\"T_186b26b6_c2ec_11e8_9e84_60e3270418c5row2_col1\" class=\"data row2 col1\" >0.91</td> \n",
       "        <td id=\"T_186b26b6_c2ec_11e8_9e84_60e3270418c5row2_col2\" class=\"data row2 col2\" >1.0</td> \n",
       "        <td id=\"T_186b26b6_c2ec_11e8_9e84_60e3270418c5row2_col3\" class=\"data row2 col3\" >0.95</td> \n",
       "        <td id=\"T_186b26b6_c2ec_11e8_9e84_60e3270418c5row2_col4\" class=\"data row2 col4\" >-0.5</td> \n",
       "        <td id=\"T_186b26b6_c2ec_11e8_9e84_60e3270418c5row2_col5\" class=\"data row2 col5\" >-0.31</td> \n",
       "        <td id=\"T_186b26b6_c2ec_11e8_9e84_60e3270418c5row2_col6\" class=\"data row2 col6\" >-0.71</td> \n",
       "    </tr>    <tr> \n",
       "        <th id=\"T_186b26b6_c2ec_11e8_9e84_60e3270418c5level0_row3\" class=\"row_heading level0 row3\" >weight</th> \n",
       "        <td id=\"T_186b26b6_c2ec_11e8_9e84_60e3270418c5row3_col0\" class=\"data row3 col0\" >-0.87</td> \n",
       "        <td id=\"T_186b26b6_c2ec_11e8_9e84_60e3270418c5row3_col1\" class=\"data row3 col1\" >0.87</td> \n",
       "        <td id=\"T_186b26b6_c2ec_11e8_9e84_60e3270418c5row3_col2\" class=\"data row3 col2\" >0.95</td> \n",
       "        <td id=\"T_186b26b6_c2ec_11e8_9e84_60e3270418c5row3_col3\" class=\"data row3 col3\" >1.0</td> \n",
       "        <td id=\"T_186b26b6_c2ec_11e8_9e84_60e3270418c5row3_col4\" class=\"data row3 col4\" >-0.4</td> \n",
       "        <td id=\"T_186b26b6_c2ec_11e8_9e84_60e3270418c5row3_col5\" class=\"data row3 col5\" >-0.28</td> \n",
       "        <td id=\"T_186b26b6_c2ec_11e8_9e84_60e3270418c5row3_col6\" class=\"data row3 col6\" >-0.63</td> \n",
       "    </tr>    <tr> \n",
       "        <th id=\"T_186b26b6_c2ec_11e8_9e84_60e3270418c5level0_row4\" class=\"row_heading level0 row4\" >acceleration</th> \n",
       "        <td id=\"T_186b26b6_c2ec_11e8_9e84_60e3270418c5row4_col0\" class=\"data row4 col0\" >0.44</td> \n",
       "        <td id=\"T_186b26b6_c2ec_11e8_9e84_60e3270418c5row4_col1\" class=\"data row4 col1\" >-0.47</td> \n",
       "        <td id=\"T_186b26b6_c2ec_11e8_9e84_60e3270418c5row4_col2\" class=\"data row4 col2\" >-0.5</td> \n",
       "        <td id=\"T_186b26b6_c2ec_11e8_9e84_60e3270418c5row4_col3\" class=\"data row4 col3\" >-0.4</td> \n",
       "        <td id=\"T_186b26b6_c2ec_11e8_9e84_60e3270418c5row4_col4\" class=\"data row4 col4\" >1.0</td> \n",
       "        <td id=\"T_186b26b6_c2ec_11e8_9e84_60e3270418c5row4_col5\" class=\"data row4 col5\" >0.27</td> \n",
       "        <td id=\"T_186b26b6_c2ec_11e8_9e84_60e3270418c5row4_col6\" class=\"data row4 col6\" >0.22</td> \n",
       "    </tr>    <tr> \n",
       "        <th id=\"T_186b26b6_c2ec_11e8_9e84_60e3270418c5level0_row5\" class=\"row_heading level0 row5\" >model_year</th> \n",
       "        <td id=\"T_186b26b6_c2ec_11e8_9e84_60e3270418c5row5_col0\" class=\"data row5 col0\" >0.57</td> \n",
       "        <td id=\"T_186b26b6_c2ec_11e8_9e84_60e3270418c5row5_col1\" class=\"data row5 col1\" >-0.34</td> \n",
       "        <td id=\"T_186b26b6_c2ec_11e8_9e84_60e3270418c5row5_col2\" class=\"data row5 col2\" >-0.31</td> \n",
       "        <td id=\"T_186b26b6_c2ec_11e8_9e84_60e3270418c5row5_col3\" class=\"data row5 col3\" >-0.28</td> \n",
       "        <td id=\"T_186b26b6_c2ec_11e8_9e84_60e3270418c5row5_col4\" class=\"data row5 col4\" >0.27</td> \n",
       "        <td id=\"T_186b26b6_c2ec_11e8_9e84_60e3270418c5row5_col5\" class=\"data row5 col5\" >1.0</td> \n",
       "        <td id=\"T_186b26b6_c2ec_11e8_9e84_60e3270418c5row5_col6\" class=\"data row5 col6\" >0.17</td> \n",
       "    </tr>    <tr> \n",
       "        <th id=\"T_186b26b6_c2ec_11e8_9e84_60e3270418c5level0_row6\" class=\"row_heading level0 row6\" >origin</th> \n",
       "        <td id=\"T_186b26b6_c2ec_11e8_9e84_60e3270418c5row6_col0\" class=\"data row6 col0\" >0.58</td> \n",
       "        <td id=\"T_186b26b6_c2ec_11e8_9e84_60e3270418c5row6_col1\" class=\"data row6 col1\" >-0.6</td> \n",
       "        <td id=\"T_186b26b6_c2ec_11e8_9e84_60e3270418c5row6_col2\" class=\"data row6 col2\" >-0.71</td> \n",
       "        <td id=\"T_186b26b6_c2ec_11e8_9e84_60e3270418c5row6_col3\" class=\"data row6 col3\" >-0.63</td> \n",
       "        <td id=\"T_186b26b6_c2ec_11e8_9e84_60e3270418c5row6_col4\" class=\"data row6 col4\" >0.22</td> \n",
       "        <td id=\"T_186b26b6_c2ec_11e8_9e84_60e3270418c5row6_col5\" class=\"data row6 col5\" >0.17</td> \n",
       "        <td id=\"T_186b26b6_c2ec_11e8_9e84_60e3270418c5row6_col6\" class=\"data row6 col6\" >1.0</td> \n",
       "    </tr></tbody> \n",
       "</table> "
      ],
      "text/plain": [
       "<pandas.io.formats.style.Styler at 0xbf44be0>"
      ]
     },
     "execution_count": 21,
     "metadata": {},
     "output_type": "execute_result"
    }
   ],
   "source": [
    "mpg.corr(method='spearman').style.format(\"{:.2}\").background_gradient(cmap\n",
    "=plt.get_cmap('coolwarm'), axis=1)"
   ]
  },
  {
   "cell_type": "code",
   "execution_count": 23,
   "metadata": {},
   "outputs": [
    {
     "data": {
      "text/html": [
       "<div>\n",
       "<style scoped>\n",
       "    .dataframe tbody tr th:only-of-type {\n",
       "        vertical-align: middle;\n",
       "    }\n",
       "\n",
       "    .dataframe tbody tr th {\n",
       "        vertical-align: top;\n",
       "    }\n",
       "\n",
       "    .dataframe thead th {\n",
       "        text-align: right;\n",
       "    }\n",
       "</style>\n",
       "<table border=\"1\" class=\"dataframe\">\n",
       "  <thead>\n",
       "    <tr style=\"text-align: right;\">\n",
       "      <th></th>\n",
       "      <th>Gender</th>\n",
       "      <th>Age</th>\n",
       "      <th>Occupation</th>\n",
       "      <th>City_Category</th>\n",
       "      <th>Stay_In_Current_City_Years</th>\n",
       "      <th>Marital_Status</th>\n",
       "      <th>Product_Category_1</th>\n",
       "      <th>Product_Category_2</th>\n",
       "      <th>Product_Category_3</th>\n",
       "      <th>Purchase</th>\n",
       "    </tr>\n",
       "  </thead>\n",
       "  <tbody>\n",
       "    <tr>\n",
       "      <th>0</th>\n",
       "      <td>F</td>\n",
       "      <td>0-17</td>\n",
       "      <td>10</td>\n",
       "      <td>A</td>\n",
       "      <td>2</td>\n",
       "      <td>0</td>\n",
       "      <td>3</td>\n",
       "      <td>NaN</td>\n",
       "      <td>NaN</td>\n",
       "      <td>8370</td>\n",
       "    </tr>\n",
       "    <tr>\n",
       "      <th>1</th>\n",
       "      <td>F</td>\n",
       "      <td>0-17</td>\n",
       "      <td>10</td>\n",
       "      <td>A</td>\n",
       "      <td>2</td>\n",
       "      <td>0</td>\n",
       "      <td>1</td>\n",
       "      <td>6.0</td>\n",
       "      <td>14.0</td>\n",
       "      <td>15200</td>\n",
       "    </tr>\n",
       "    <tr>\n",
       "      <th>2</th>\n",
       "      <td>F</td>\n",
       "      <td>0-17</td>\n",
       "      <td>10</td>\n",
       "      <td>A</td>\n",
       "      <td>2</td>\n",
       "      <td>0</td>\n",
       "      <td>12</td>\n",
       "      <td>NaN</td>\n",
       "      <td>NaN</td>\n",
       "      <td>1422</td>\n",
       "    </tr>\n",
       "    <tr>\n",
       "      <th>3</th>\n",
       "      <td>F</td>\n",
       "      <td>0-17</td>\n",
       "      <td>10</td>\n",
       "      <td>A</td>\n",
       "      <td>2</td>\n",
       "      <td>0</td>\n",
       "      <td>12</td>\n",
       "      <td>14.0</td>\n",
       "      <td>NaN</td>\n",
       "      <td>1057</td>\n",
       "    </tr>\n",
       "    <tr>\n",
       "      <th>4</th>\n",
       "      <td>M</td>\n",
       "      <td>55+</td>\n",
       "      <td>16</td>\n",
       "      <td>C</td>\n",
       "      <td>4+</td>\n",
       "      <td>0</td>\n",
       "      <td>8</td>\n",
       "      <td>NaN</td>\n",
       "      <td>NaN</td>\n",
       "      <td>7969</td>\n",
       "    </tr>\n",
       "  </tbody>\n",
       "</table>\n",
       "</div>"
      ],
      "text/plain": [
       "  Gender   Age  Occupation City_Category Stay_In_Current_City_Years  \\\n",
       "0      F  0-17          10             A                          2   \n",
       "1      F  0-17          10             A                          2   \n",
       "2      F  0-17          10             A                          2   \n",
       "3      F  0-17          10             A                          2   \n",
       "4      M   55+          16             C                         4+   \n",
       "\n",
       "   Marital_Status  Product_Category_1  Product_Category_2  Product_Category_3  \\\n",
       "0               0                   3                 NaN                 NaN   \n",
       "1               0                   1                 6.0                14.0   \n",
       "2               0                  12                 NaN                 NaN   \n",
       "3               0                  12                14.0                 NaN   \n",
       "4               0                   8                 NaN                 NaN   \n",
       "\n",
       "   Purchase  \n",
       "0      8370  \n",
       "1     15200  \n",
       "2      1422  \n",
       "3      1057  \n",
       "4      7969  "
      ]
     },
     "execution_count": 23,
     "metadata": {},
     "output_type": "execute_result"
    }
   ],
   "source": [
    "import pandas as pd\n",
    "import matplotlib.pyplot as plt\n",
    "data = pd.read_csv('Dataset Tutorial 2/purchase.csv')\n",
    "data.head()"
   ]
  },
  {
   "cell_type": "code",
   "execution_count": 24,
   "metadata": {},
   "outputs": [],
   "source": [
    "feature_cols = ['Occupation','Marital_Status']\n",
    "X = data[feature_cols]\n",
    "y = data['Purchase']"
   ]
  },
  {
   "cell_type": "code",
   "execution_count": 25,
   "metadata": {},
   "outputs": [
    {
     "data": {
      "text/plain": [
       "LinearRegression(copy_X=True, fit_intercept=True, n_jobs=1, normalize=False)"
      ]
     },
     "execution_count": 25,
     "metadata": {},
     "output_type": "execute_result"
    }
   ],
   "source": [
    "from sklearn.linear_model import LinearRegression\n",
    "linreg = LinearRegression() #instantiate a new model\n",
    "linreg.fit(X, y) #fit the model to our data\n"
   ]
  },
  {
   "cell_type": "code",
   "execution_count": 26,
   "metadata": {},
   "outputs": [
    {
     "name": "stdout",
     "output_type": "stream",
     "text": [
      "Nilai MSE =  4716.065808871609\n"
     ]
    }
   ],
   "source": [
    "from sklearn import metrics\n",
    "import numpy as np\n",
    "feature_cols = ['Occupation','Marital_Status','Product_Category_1']\n",
    "X = data[feature_cols]\n",
    "linreg = LinearRegression()\n",
    "linreg.fit(X, y)\n",
    "y_pred = linreg.predict(X)\n",
    "print(\"Nilai MSE = \",np.sqrt(metrics.mean_squared_error(y, y_pred)))"
   ]
  },
  {
   "cell_type": "code",
   "execution_count": 37,
   "metadata": {},
   "outputs": [
    {
     "name": "stdout",
     "output_type": "stream",
     "text": [
      "Label Names =  ['malignant' 'benign']\n",
      "feature_names =  ['mean radius' 'mean texture' 'mean perimeter' 'mean area'\n",
      " 'mean smoothness' 'mean compactness' 'mean concavity'\n",
      " 'mean concave points' 'mean symmetry' 'mean fractal dimension'\n",
      " 'radius error' 'texture error' 'perimeter error' 'area error'\n",
      " 'smoothness error' 'compactness error' 'concavity error'\n",
      " 'concave points error' 'symmetry error' 'fractal dimension error'\n",
      " 'worst radius' 'worst texture' 'worst perimeter' 'worst area'\n",
      " 'worst smoothness' 'worst compactness' 'worst concavity'\n",
      " 'worst concave points' 'worst symmetry' 'worst fractal dimension']\n"
     ]
    }
   ],
   "source": [
    "from sklearn.datasets import load_breast_cancer\n",
    "from sklearn.model_selection import train_test_split\n",
    "from sklearn.linear_model import LogisticRegression\n",
    "from sklearn.metrics import accuracy_score\n",
    "from sklearn.metrics import confusion_matrix\n",
    "from sklearn.metrics import precision_score\n",
    "from sklearn.metrics import recall_score\n",
    "# Load dataset\n",
    "data = load_breast_cancer()\n",
    "# Organize our data\n",
    "label_names = data['target_names']\n",
    "labels = data['target']\n",
    "feature_names = data['feature_names']\n",
    "features = data['data']\n",
    "# Look at our data\n",
    "print(\"Label Names = \", label_names)\n",
    "print(\"feature_names = \", feature_names)"
   ]
  },
  {
   "cell_type": "code",
   "execution_count": 33,
   "metadata": {},
   "outputs": [
    {
     "name": "stdout",
     "output_type": "stream",
     "text": [
      "[1 0 0 1 1 0 0 0 1 1 1 0 1 0 1 0 1 1 1 0 1 1 0 1 1 1 1 1 1 0 1 1 1 1 1 1 0\n",
      " 1 0 1 1 0 1 1 1 1 1 1 1 1 0 0 1 1 1 1 1 0 1 1 1 0 0 1 1 1 0 0 1 1 0 0 1 0\n",
      " 1 1 1 1 1 1 0 1 1 0 0 0 0 0 1 1 1 1 1 1 1 1 0 0 1 0 0 1 0 0 1 1 1 0 1 1 0\n",
      " 1 0 0 1 0 1 1 1 0 0 1 1 0 1 0 0 1 1 0 0 0 1 1 1 0 1 1 1 0 1 0 1 1 0 1 0 0\n",
      " 0 1 0 1 1 1 1 0 0 1 1 1 1 1 1 1 0 1 1 1 1 0 1 1 1 1 1 1 0 1 1 1 1 0 1 0 0\n",
      " 0 0 1]\n",
      "0.9574468085106383\n",
      "\n",
      "\n",
      "[[ 63   4]\n",
      " [  4 117]]\n",
      "\n",
      "\n",
      "0.9669421487603306\n",
      "\n",
      "\n",
      "0.9669421487603306\n"
     ]
    }
   ],
   "source": [
    "# Split our data\n",
    "train, test, train_labels, test_labels = train_test_split(features,\n",
    " labels,\n",
    " test_size=0.33,\n",
    " random_state=42)\n",
    "# Initialize our classifier\n",
    "logress = LogisticRegression()\n",
    "# Train our classifier\n",
    "model = logress.fit(train, train_labels)\n",
    "# Make predictions\n",
    "preds = logress.predict(test)\n",
    "print(preds)\n",
    "# Evaluate accuracy\n",
    "print(accuracy_score(test_labels, preds))\n",
    "print(\"\\n\")\n",
    "print(confusion_matrix(test_labels,preds))\n",
    "print(\"\\n\")\n",
    "print(precision_score(test_labels,preds))\n",
    "print(\"\\n\")\n",
    "print(recall_score(test_labels,preds))\n"
   ]
  },
  {
   "cell_type": "code",
   "execution_count": 38,
   "metadata": {},
   "outputs": [],
   "source": [
    "import matplotlib.pyplot as plt\n",
    "from sklearn import datasets\n",
    "from sklearn.cluster import KMeans\n",
    "import sklearn.metrics as sm\n",
    "import pandas as pd\n",
    "import numpy as np\n",
    "%matplotlib inline"
   ]
  },
  {
   "cell_type": "code",
   "execution_count": 39,
   "metadata": {},
   "outputs": [],
   "source": [
    "iris = datasets.load_iris()"
   ]
  },
  {
   "cell_type": "code",
   "execution_count": 40,
   "metadata": {},
   "outputs": [
    {
     "data": {
      "text/plain": [
       "array(['setosa', 'versicolor', 'virginica'], dtype='<U10')"
      ]
     },
     "execution_count": 40,
     "metadata": {},
     "output_type": "execute_result"
    }
   ],
   "source": [
    "# deskripsi data\n",
    "iris.data\n",
    "iris.feature_names\n",
    "iris.target\n",
    "iris.target_names"
   ]
  },
  {
   "cell_type": "code",
   "execution_count": 41,
   "metadata": {},
   "outputs": [],
   "source": [
    "# simpan input sebagai Dataframe dan set nama kolom\n",
    "x = pd.DataFrame(iris.data)\n",
    "x.columns = ['Sepal_Length','Sepal_Width','Petal_Length','Petal_Width']\n",
    "y = pd.DataFrame(iris.target)\n",
    "y.columns = ['Targets']"
   ]
  },
  {
   "cell_type": "code",
   "execution_count": 42,
   "metadata": {},
   "outputs": [],
   "source": [
    "data = np.array(x)"
   ]
  },
  {
   "cell_type": "code",
   "execution_count": 43,
   "metadata": {},
   "outputs": [
    {
     "data": {
      "text/plain": [
       "Text(0.5,1,'Petal')"
      ]
     },
     "execution_count": 43,
     "metadata": {},
     "output_type": "execute_result"
    },
    {
     "data": {
      "image/png": "[encoded data removed]",
      "text/plain": [
       "<matplotlib.figure.Figure at 0xd012e48>"
      ]
     },
     "metadata": {},
     "output_type": "display_data"
    }
   ],
   "source": [
    "# Set the size of the plot\n",
    "plt.figure(figsize=(14,7))\n",
    "# Create a colormap\n",
    "colormap = np.array(['red', 'lime', 'black'])\n",
    "# Plot Sepal\n",
    "plt.subplot(1, 2, 1)\n",
    "plt.scatter(x.Sepal_Length, x.Sepal_Width, c=colormap[y.Targets], s=40)\n",
    "plt.title('Sepal')\n",
    "plt.subplot(1, 2, 2)\n",
    "plt.scatter(x.Petal_Length, x.Petal_Width, c=colormap[y.Targets], s=40)\n",
    "plt.title('Petal')"
   ]
  },
  {
   "cell_type": "code",
   "execution_count": 55,
   "metadata": {},
   "outputs": [
    {
     "name": "stdout",
     "output_type": "stream",
     "text": [
      "[0 0 0 0 0 0 0 0 0 0 0 0 0 0 0 0 0 0 0 0 0 0 0 0 0 0 0 0 0 0 0 0 0 0 0 0 0\n",
      " 0 0 0 0 0 0 0 0 0 0 0 0 0 1 1 2 1 1 1 1 1 1 1 1 1 1 1 1 1 1 1 1 1 1 1 1 1\n",
      " 1 1 1 2 1 1 1 1 1 1 1 1 1 1 1 1 1 1 1 1 1 1 1 1 1 1 2 1 2 2 2 2 1 2 2 2 2\n",
      " 2 2 1 1 2 2 2 2 1 2 1 2 1 2 2 1 1 2 2 2 2 2 1 2 2 2 2 1 2 2 2 1 2 2 2 1 2\n",
      " 2 1]\n",
      "[1 1 1 1 1 1 1 1 1 1 1 1 1 1 1 1 1 1 1 1 1 1 1 1 1 1 1 1 1 1 1 1 1 1 1 1 1\n",
      " 1 1 1 1 1 1 1 1 1 1 1 1 1 0 0 2 0 0 0 0 0 0 0 0 0 0 0 0 0 0 0 0 0 0 0 0 0\n",
      " 0 0 0 2 0 0 0 0 0 0 0 0 0 0 0 0 0 0 0 0 0 0 0 0 0 0 2 0 2 2 2 2 0 2 2 2 2\n",
      " 2 2 0 0 2 2 2 2 0 2 0 2 0 2 2 0 0 2 2 2 2 2 0 2 2 2 2 0 2 2 2 0 2 2 2 0 2\n",
      " 2 0]\n"
     ]
    }
   ],
   "source": [
    "# K Means Cluster\n",
    "model = KMeans(n_clusters=3)\n",
    "model.fit(x)\n",
    "# The fix, we convert all the 1s to 0s and 0s to 1s.\n",
    "predY = np.choose(model.labels_, [1, 0, 2]).astype(np.int64)\n",
    "print (model.labels_)\n",
    "print (predY)"
   ]
  },
  {
   "cell_type": "code",
   "execution_count": 56,
   "metadata": {},
   "outputs": [
    {
     "data": {
      "text/plain": [
       "Text(0.5,1,'K Mean')"
      ]
     },
     "execution_count": 56,
     "metadata": {},
     "output_type": "execute_result"
    },
    {
     "data": {
      "image/png": "[encoded data removed]",
      "text/plain": [
       "<matplotlib.figure.Figure at 0xc7e4c88>"
      ]
     },
     "metadata": {},
     "output_type": "display_data"
    }
   ],
   "source": [
    "# View the results\n",
    "# Set the size of the plot\n",
    "plt.figure(figsize=(14,7))\n",
    "# Create a colormap\n",
    "colormap = np.array(['red', 'lime', 'black'])\n",
    "# Plot Orginal\n",
    "plt.subplot(1, 2, 1)\n",
    "plt.scatter(x.Petal_Length, x.Petal_Width, c=colormap[y.Targets], s=40)\n",
    "plt.title('Ground Truth')\n",
    "# Plot Predicted with corrected values\n",
    "plt.subplot(1, 2, 2)\n",
    "plt.scatter(x.Petal_Length, x.Petal_Width, c=colormap[predY], s=40)\n",
    "plt.title('K Mean')"
   ]
  },
  {
   "cell_type": "code",
   "execution_count": 47,
   "metadata": {
    "scrolled": true
   },
   "outputs": [
    {
     "name": "stdout",
     "output_type": "stream",
     "text": [
      "[0.6808136202713507, 0.5525919445213676, 0.49722797262968016]\n"
     ]
    },
    {
     "data": {
      "image/png": "[encoded data removed]",
      "text/plain": [
       "<matplotlib.figure.Figure at 0xd173d30>"
      ]
     },
     "metadata": {},
     "output_type": "display_data"
    }
   ],
   "source": [
    "from sklearn import metrics\n",
    "# calculate SC for K=2 through K=5\n",
    "k_range = range(2, 5)\n",
    "scores = []\n",
    "for k in k_range:\n",
    "    km = KMeans(n_clusters=k, random_state=1)\n",
    "    km.fit(x)\n",
    "    scores.append(metrics.silhouette_score(x, km.labels_))\n",
    "# plot the results\n",
    "plt.plot(k_range, scores)\n",
    "plt.xlabel('Number of clusters')\n",
    "plt.ylabel('Silhouette Coefficient')\n",
    "plt.grid(True)\n",
    "print (scores)"
   ]
  },
  {
   "cell_type": "code",
   "execution_count": 60,
   "metadata": {},
   "outputs": [
    {
     "data": {
      "image/png": "[encoded data removed]",
      "text/plain": [
       "<matplotlib.figure.Figure at 0xc547080>"
      ]
     },
     "metadata": {},
     "output_type": "display_data"
    }
   ],
   "source": [
    "import numpy as np\n",
    "import matplotlib.pyplot as plt\n",
    "from mpl_toolkits.mplot3d import Axes3D\n",
    "from sklearn import decomposition\n",
    "from sklearn import datasets\n",
    "np.random.seed(5)\n",
    "centers = [[1, 1], [-1, -1], [1, -1]]\n",
    "iris = datasets.load_iris()\n",
    "X = iris.data\n",
    "y = iris.target\n",
    "fig = plt.figure(1, figsize=(4, 3))\n",
    "plt.clf()\n",
    "ax = Axes3D(fig, rect=[0, 0, .95, 1], elev=48, azim=134)\n",
    "plt.cla()\n",
    "pca = decomposition.PCA(n_components=3)\n",
    "pca.fit(X)\n",
    "X = pca.transform(X)\n",
    "for name, label in [('Setosa', 0), ('Versicolour', 1), ('Virginica', 2)]:\n",
    "     ax.text3D(X[y == label, 0].mean(), X[y == label, 1].mean() + 1.5, X[y == label, 2].mean(), \n",
    "               name, horizontalalignment='center', bbox=dict(alpha=.5, edgecolor='w', facecolor='w'))\n",
    "# Reorder the labels to have colors matching the cluster results\n",
    "y = np.choose(y, [1, 2, 0]).astype(np.float)\n",
    "ax.scatter(X[:, 0], X[:, 1], X[:, 2], c=y, cmap=plt.cm.nipy_spectral,\n",
    " edgecolor='k')\n",
    "ax.w_xaxis.set_ticklabels([])\n",
    "ax.w_yaxis.set_ticklabels([])\n",
    "ax.w_zaxis.set_ticklabels([])\n",
    "plt.show()"
   ]
  },
  {
   "cell_type": "code",
   "execution_count": null,
   "metadata": {},
   "outputs": [],
   "source": []
  }
 ],
 "metadata": {
  "kernelspec": {
   "display_name": "Python 3",
   "language": "python",
   "name": "python3"
  },
  "language_info": {
   "codemirror_mode": {
    "name": "ipython",
    "version": 3
   },
   "file_extension": ".py",
   "mimetype": "text/x-python",
   "name": "python",
   "nbconvert_exporter": "python",
   "pygments_lexer": "ipython3",
   "version": "3.6.4"
  }
 },
 "nbformat": 4,
 "nbformat_minor": 2
}
